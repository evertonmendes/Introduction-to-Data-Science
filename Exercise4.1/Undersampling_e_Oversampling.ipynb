{
  "cells": [
    {
      "cell_type": "markdown",
      "metadata": {
        "id": "PCEww9wQ_DuR"
      },
      "source": [
        "# Undersampling e Oversampling\n",
        "\n",
        "Desbalanceamento de dados é um problema muito comum nos conjuntos de dados. Duas possíveis soluções são a subamostragem (undersampling) aleatória e a superamostragem (oversampling) aleatória. O exemplo a seguir mostra um exemplo simples de como isso pode ser feito utilizando a biblioteca Pandas.\n",
        "\n",
        "---"
      ]
    },
    {
      "cell_type": "markdown",
      "metadata": {
        "id": "JfbHMx3TAUZ9"
      },
      "source": [
        "## Exploração inicial dos dados:\n",
        "\n",
        "Criando conjunto de dados artificial, desbalanceado:"
      ]
    },
    {
      "cell_type": "code",
      "execution_count": 24,
      "metadata": {
        "colab": {
          "base_uri": "https://localhost:8080/",
          "height": 692
        },
        "id": "-T50DAWgkXNk",
        "outputId": "a5e86dc3-3306-448c-a0b1-a2e07318f575"
      },
      "outputs": [
        {
          "data": {
            "text/plain": [
              "array([[<AxesSubplot:title={'center':'idade'}>,\n",
              "        <AxesSubplot:title={'center':'sexo'}>],\n",
              "       [<AxesSubplot:title={'center':'altura'}>,\n",
              "        <AxesSubplot:title={'center':'classe'}>]], dtype=object)"
            ]
          },
          "execution_count": 24,
          "metadata": {},
          "output_type": "execute_result"
        },
        {
          "data": {
            "image/png": "[encoded data removed]",
            "text/plain": [
              "<Figure size 1080x720 with 4 Axes>"
            ]
          },
          "metadata": {
            "needs_background": "light"
          },
          "output_type": "display_data"
        }
      ],
      "source": [
        "from matplotlib import pyplot as plt\n",
        "import pandas as pd\n",
        "import numpy as np\n",
        "# Dados de exemplo\n",
        "dados = pd.DataFrame({\n",
        "    'idade': np.round(np.random.normal(loc=30, scale=10, size=1000)),\n",
        "    'sexo': np.random.choice([0, 1], 1000), # 0 homem, 1 mulher\n",
        "    'altura': np.round(np.random.normal(loc=1.6, scale=.15, size=1000), 2),\n",
        "    'classe':  np.random.choice([0, 1], 1000, p=[0.05, 0.95])\n",
        "    })\n",
        "\n",
        "plt.rcParams['figure.figsize'] = [15, 10]\n",
        "dados.hist()"
      ]
    },
    {
      "cell_type": "markdown",
      "metadata": {
        "id": "oSaws6ohAftx"
      },
      "source": [
        "Nota-se um grande desbalanceamento das classes através do histograma da variável alvo `classe`"
      ]
    },
    {
      "cell_type": "code",
      "execution_count": 25,
      "metadata": {
        "colab": {
          "base_uri": "https://localhost:8080/"
        },
        "id": "G7bBl3Gk5A_6",
        "outputId": "443b318d-3696-4e8a-ab3f-583affa34163"
      },
      "outputs": [
        {
          "data": {
            "text/plain": [
              "1    937\n",
              "0     63\n",
              "Name: classe, dtype: int64"
            ]
          },
          "execution_count": 25,
          "metadata": {},
          "output_type": "execute_result"
        }
      ],
      "source": [
        "dados['classe'].value_counts()"
      ]
    },
    {
      "cell_type": "markdown",
      "metadata": {
        "id": "L2jaa8hSjrYm"
      },
      "source": [
        "A função `value_counts()` confirma o desbalanceamento: há **955** ocorrências da classe 1 e apenas **45** da classe 0."
      ]
    },
    {
      "cell_type": "markdown",
      "metadata": {
        "id": "ERETh-wqAyns"
      },
      "source": [
        "---\n",
        "\n",
        "## Superamostragem - Oversampling"
      ]
    },
    {
      "cell_type": "markdown",
      "metadata": {
        "id": "FXDlAxkdBGRZ"
      },
      "source": [
        "Na superamostragem vamos aumentar o número de elementos da classe menos representada.\n",
        "\n",
        "Primeiro vamos separar as tuplas do nosso conjunto de dados em que a classe é igual à 0:"
      ]
    },
    {
      "cell_type": "code",
      "execution_count": 26,
      "metadata": {
        "colab": {
          "base_uri": "https://localhost:8080/",
          "height": 402
        },
        "id": "adbIQX_oBM2Y",
        "outputId": "409ed889-ef5d-4e8c-d599-89887b6b958e"
      },
      "outputs": [
        {
          "data": {
            "text/html": [
              "<div>\n",
              "<style scoped>\n",
              "    .dataframe tbody tr th:only-of-type {\n",
              "        vertical-align: middle;\n",
              "    }\n",
              "\n",
              "    .dataframe tbody tr th {\n",
              "        vertical-align: top;\n",
              "    }\n",
              "\n",
              "    .dataframe thead th {\n",
              "        text-align: right;\n",
              "    }\n",
              "</style>\n",
              "<table border=\"1\" class=\"dataframe\">\n",
              "  <thead>\n",
              "    <tr style=\"text-align: right;\">\n",
              "      <th></th>\n",
              "      <th>idade</th>\n",
              "      <th>sexo</th>\n",
              "      <th>altura</th>\n",
              "      <th>classe</th>\n",
              "    </tr>\n",
              "  </thead>\n",
              "  <tbody>\n",
              "    <tr>\n",
              "      <th>22</th>\n",
              "      <td>31.0</td>\n",
              "      <td>1</td>\n",
              "      <td>1.83</td>\n",
              "      <td>0</td>\n",
              "    </tr>\n",
              "    <tr>\n",
              "      <th>42</th>\n",
              "      <td>8.0</td>\n",
              "      <td>1</td>\n",
              "      <td>1.67</td>\n",
              "      <td>0</td>\n",
              "    </tr>\n",
              "    <tr>\n",
              "      <th>78</th>\n",
              "      <td>15.0</td>\n",
              "      <td>1</td>\n",
              "      <td>1.59</td>\n",
              "      <td>0</td>\n",
              "    </tr>\n",
              "    <tr>\n",
              "      <th>109</th>\n",
              "      <td>31.0</td>\n",
              "      <td>1</td>\n",
              "      <td>1.61</td>\n",
              "      <td>0</td>\n",
              "    </tr>\n",
              "    <tr>\n",
              "      <th>154</th>\n",
              "      <td>13.0</td>\n",
              "      <td>1</td>\n",
              "      <td>1.50</td>\n",
              "      <td>0</td>\n",
              "    </tr>\n",
              "    <tr>\n",
              "      <th>...</th>\n",
              "      <td>...</td>\n",
              "      <td>...</td>\n",
              "      <td>...</td>\n",
              "      <td>...</td>\n",
              "    </tr>\n",
              "    <tr>\n",
              "      <th>919</th>\n",
              "      <td>28.0</td>\n",
              "      <td>0</td>\n",
              "      <td>1.50</td>\n",
              "      <td>0</td>\n",
              "    </tr>\n",
              "    <tr>\n",
              "      <th>920</th>\n",
              "      <td>29.0</td>\n",
              "      <td>1</td>\n",
              "      <td>1.37</td>\n",
              "      <td>0</td>\n",
              "    </tr>\n",
              "    <tr>\n",
              "      <th>924</th>\n",
              "      <td>50.0</td>\n",
              "      <td>0</td>\n",
              "      <td>1.67</td>\n",
              "      <td>0</td>\n",
              "    </tr>\n",
              "    <tr>\n",
              "      <th>935</th>\n",
              "      <td>35.0</td>\n",
              "      <td>1</td>\n",
              "      <td>1.70</td>\n",
              "      <td>0</td>\n",
              "    </tr>\n",
              "    <tr>\n",
              "      <th>988</th>\n",
              "      <td>41.0</td>\n",
              "      <td>1</td>\n",
              "      <td>1.67</td>\n",
              "      <td>0</td>\n",
              "    </tr>\n",
              "  </tbody>\n",
              "</table>\n",
              "<p>63 rows × 4 columns</p>\n",
              "</div>"
            ],
            "text/plain": [
              "     idade  sexo  altura  classe\n",
              "22    31.0     1    1.83       0\n",
              "42     8.0     1    1.67       0\n",
              "78    15.0     1    1.59       0\n",
              "109   31.0     1    1.61       0\n",
              "154   13.0     1    1.50       0\n",
              "..     ...   ...     ...     ...\n",
              "919   28.0     0    1.50       0\n",
              "920   29.0     1    1.37       0\n",
              "924   50.0     0    1.67       0\n",
              "935   35.0     1    1.70       0\n",
              "988   41.0     1    1.67       0\n",
              "\n",
              "[63 rows x 4 columns]"
            ]
          },
          "execution_count": 26,
          "metadata": {},
          "output_type": "execute_result"
        }
      ],
      "source": [
        "classe_0 = dados[dados.classe == 0]\n",
        "classe_0"
      ]
    },
    {
      "cell_type": "code",
      "execution_count": 27,
      "metadata": {
        "colab": {
          "base_uri": "https://localhost:8080/"
        },
        "id": "kVHUtkf2COkO",
        "outputId": "8a1a62bd-ab42-4efd-c8f5-f980aa1a2c36"
      },
      "outputs": [
        {
          "data": {
            "text/plain": [
              "(63, 4)"
            ]
          },
          "execution_count": 27,
          "metadata": {},
          "output_type": "execute_result"
        }
      ],
      "source": [
        "classe_0.shape"
      ]
    },
    {
      "cell_type": "markdown",
      "metadata": {
        "id": "iqcfSC7ZBf-5"
      },
      "source": [
        "Agora vamos obter uma amostra de tamanho **955**, para que as classes fiquem igualmente distribuídas. Note que `replace` deve ser true, pois sem repetições não conseguiriamos criar uma amostra da classe `0` maior que **45**:"
      ]
    },
    {
      "cell_type": "code",
      "execution_count": 28,
      "metadata": {
        "colab": {
          "base_uri": "https://localhost:8080/",
          "height": 402
        },
        "id": "b2IrvM4PCFKr",
        "outputId": "e4a04714-a5c3-463a-d5df-e5d0ef7402dc"
      },
      "outputs": [
        {
          "data": {
            "text/html": [
              "<div>\n",
              "<style scoped>\n",
              "    .dataframe tbody tr th:only-of-type {\n",
              "        vertical-align: middle;\n",
              "    }\n",
              "\n",
              "    .dataframe tbody tr th {\n",
              "        vertical-align: top;\n",
              "    }\n",
              "\n",
              "    .dataframe thead th {\n",
              "        text-align: right;\n",
              "    }\n",
              "</style>\n",
              "<table border=\"1\" class=\"dataframe\">\n",
              "  <thead>\n",
              "    <tr style=\"text-align: right;\">\n",
              "      <th></th>\n",
              "      <th>idade</th>\n",
              "      <th>sexo</th>\n",
              "      <th>altura</th>\n",
              "      <th>classe</th>\n",
              "    </tr>\n",
              "  </thead>\n",
              "  <tbody>\n",
              "    <tr>\n",
              "      <th>494</th>\n",
              "      <td>59.0</td>\n",
              "      <td>0</td>\n",
              "      <td>1.77</td>\n",
              "      <td>0</td>\n",
              "    </tr>\n",
              "    <tr>\n",
              "      <th>78</th>\n",
              "      <td>15.0</td>\n",
              "      <td>1</td>\n",
              "      <td>1.59</td>\n",
              "      <td>0</td>\n",
              "    </tr>\n",
              "    <tr>\n",
              "      <th>771</th>\n",
              "      <td>9.0</td>\n",
              "      <td>0</td>\n",
              "      <td>1.58</td>\n",
              "      <td>0</td>\n",
              "    </tr>\n",
              "    <tr>\n",
              "      <th>799</th>\n",
              "      <td>46.0</td>\n",
              "      <td>0</td>\n",
              "      <td>1.75</td>\n",
              "      <td>0</td>\n",
              "    </tr>\n",
              "    <tr>\n",
              "      <th>252</th>\n",
              "      <td>34.0</td>\n",
              "      <td>1</td>\n",
              "      <td>1.71</td>\n",
              "      <td>0</td>\n",
              "    </tr>\n",
              "    <tr>\n",
              "      <th>...</th>\n",
              "      <td>...</td>\n",
              "      <td>...</td>\n",
              "      <td>...</td>\n",
              "      <td>...</td>\n",
              "    </tr>\n",
              "    <tr>\n",
              "      <th>325</th>\n",
              "      <td>29.0</td>\n",
              "      <td>0</td>\n",
              "      <td>1.74</td>\n",
              "      <td>0</td>\n",
              "    </tr>\n",
              "    <tr>\n",
              "      <th>393</th>\n",
              "      <td>26.0</td>\n",
              "      <td>0</td>\n",
              "      <td>1.77</td>\n",
              "      <td>0</td>\n",
              "    </tr>\n",
              "    <tr>\n",
              "      <th>494</th>\n",
              "      <td>59.0</td>\n",
              "      <td>0</td>\n",
              "      <td>1.77</td>\n",
              "      <td>0</td>\n",
              "    </tr>\n",
              "    <tr>\n",
              "      <th>481</th>\n",
              "      <td>22.0</td>\n",
              "      <td>1</td>\n",
              "      <td>1.33</td>\n",
              "      <td>0</td>\n",
              "    </tr>\n",
              "    <tr>\n",
              "      <th>531</th>\n",
              "      <td>48.0</td>\n",
              "      <td>0</td>\n",
              "      <td>1.42</td>\n",
              "      <td>0</td>\n",
              "    </tr>\n",
              "  </tbody>\n",
              "</table>\n",
              "<p>955 rows × 4 columns</p>\n",
              "</div>"
            ],
            "text/plain": [
              "     idade  sexo  altura  classe\n",
              "494   59.0     0    1.77       0\n",
              "78    15.0     1    1.59       0\n",
              "771    9.0     0    1.58       0\n",
              "799   46.0     0    1.75       0\n",
              "252   34.0     1    1.71       0\n",
              "..     ...   ...     ...     ...\n",
              "325   29.0     0    1.74       0\n",
              "393   26.0     0    1.77       0\n",
              "494   59.0     0    1.77       0\n",
              "481   22.0     1    1.33       0\n",
              "531   48.0     0    1.42       0\n",
              "\n",
              "[955 rows x 4 columns]"
            ]
          },
          "execution_count": 28,
          "metadata": {},
          "output_type": "execute_result"
        }
      ],
      "source": [
        "sample_0 = classe_0.sample(n=955, replace=True)\n",
        "sample_0"
      ]
    },
    {
      "cell_type": "markdown",
      "metadata": {
        "id": "k6jkqGtkCZSs"
      },
      "source": [
        "Agora vamos concatenar os dados da nossa amostra com os dados do conjunto original que possuiam classe igual à 1:"
      ]
    },
    {
      "cell_type": "code",
      "execution_count": 29,
      "metadata": {
        "colab": {
          "base_uri": "https://localhost:8080/",
          "height": 365
        },
        "id": "7VElDw-M7S80",
        "outputId": "d69372e2-7848-4bd2-99ab-e7ec95ea51bd"
      },
      "outputs": [
        {
          "data": {
            "text/plain": [
              "array([[<AxesSubplot:title={'center':'idade'}>,\n",
              "        <AxesSubplot:title={'center':'sexo'}>],\n",
              "       [<AxesSubplot:title={'center':'altura'}>,\n",
              "        <AxesSubplot:title={'center':'classe'}>]], dtype=object)"
            ]
          },
          "execution_count": 29,
          "metadata": {},
          "output_type": "execute_result"
        },
        {
          "data": {
            "image/png": "[encoded data removed]",
            "text/plain": [
              "<Figure size 1080x720 with 4 Axes>"
            ]
          },
          "metadata": {
            "needs_background": "light"
          },
          "output_type": "display_data"
        }
      ],
      "source": [
        "classe_1 = dados[dados.classe == 1]\n",
        "dados_upsampled = pd.concat([sample_0, classe_1])\n",
        "dados_upsampled.hist()"
      ]
    },
    {
      "cell_type": "markdown",
      "metadata": {
        "id": "dm09PW4CC2oz"
      },
      "source": [
        "Checando a distribuição das classes:"
      ]
    },
    {
      "cell_type": "code",
      "execution_count": 30,
      "metadata": {
        "colab": {
          "base_uri": "https://localhost:8080/",
          "height": 314
        },
        "id": "JwjB8xHjC1wi",
        "outputId": "6d72287d-74f3-4488-9465-be1184344c84"
      },
      "outputs": [
        {
          "data": {
            "text/plain": [
              "array([[<AxesSubplot:title={'center':'classe'}>]], dtype=object)"
            ]
          },
          "execution_count": 30,
          "metadata": {},
          "output_type": "execute_result"
        },
        {
          "data": {
            "image/png": "[encoded data removed]",
            "text/plain": [
              "<Figure size 1080x720 with 1 Axes>"
            ]
          },
          "metadata": {
            "needs_background": "light"
          },
          "output_type": "display_data"
        }
      ],
      "source": [
        "dados_upsampled.hist('classe')"
      ]
    },
    {
      "cell_type": "code",
      "execution_count": 31,
      "metadata": {
        "colab": {
          "base_uri": "https://localhost:8080/"
        },
        "id": "GEn5CNjkC6si",
        "outputId": "53c3786a-1f3d-4666-a825-1d1d6069c02d"
      },
      "outputs": [
        {
          "data": {
            "text/plain": [
              "0    955\n",
              "1    937\n",
              "Name: classe, dtype: int64"
            ]
          },
          "execution_count": 31,
          "metadata": {},
          "output_type": "execute_result"
        }
      ],
      "source": [
        "dados_upsampled['classe'].value_counts()"
      ]
    },
    {
      "cell_type": "code",
      "execution_count": 32,
      "metadata": {
        "colab": {
          "base_uri": "https://localhost:8080/",
          "height": 365
        },
        "id": "d7FO58_wGrYY",
        "outputId": "694d2974-400c-48e0-ec0e-53d5aea22ca0"
      },
      "outputs": [
        {
          "data": {
            "text/plain": [
              "array([[<AxesSubplot:title={'center':'idade'}>,\n",
              "        <AxesSubplot:title={'center':'sexo'}>],\n",
              "       [<AxesSubplot:title={'center':'altura'}>,\n",
              "        <AxesSubplot:title={'center':'classe'}>]], dtype=object)"
            ]
          },
          "execution_count": 32,
          "metadata": {},
          "output_type": "execute_result"
        },
        {
          "data": {
            "image/png": "[encoded data removed]",
            "text/plain": [
              "<Figure size 1080x720 with 4 Axes>"
            ]
          },
          "metadata": {
            "needs_background": "light"
          },
          "output_type": "display_data"
        }
      ],
      "source": [
        "dados_upsampled.hist()"
      ]
    },
    {
      "cell_type": "markdown",
      "metadata": {
        "id": "on_2GpZdDb3r"
      },
      "source": [
        "\n",
        "\n",
        "---\n",
        "\n",
        "## Subamostragem - Undersampling"
      ]
    },
    {
      "cell_type": "markdown",
      "metadata": {
        "id": "hGBX3gt7DrHf"
      },
      "source": [
        "Para a subamostragem, vamos diminuir o tamanho da classe predominante.\n",
        "\n",
        "Checando a distribuição das classes nos dados originais:"
      ]
    },
    {
      "cell_type": "code",
      "execution_count": 33,
      "metadata": {
        "colab": {
          "base_uri": "https://localhost:8080/"
        },
        "id": "ighyAMnZEX3M",
        "outputId": "c6976718-c332-48f6-95a1-b7a2ab57e93d"
      },
      "outputs": [
        {
          "data": {
            "text/plain": [
              "1    937\n",
              "0     63\n",
              "Name: classe, dtype: int64"
            ]
          },
          "execution_count": 33,
          "metadata": {},
          "output_type": "execute_result"
        }
      ],
      "source": [
        "dados['classe'].value_counts()"
      ]
    },
    {
      "cell_type": "markdown",
      "metadata": {
        "id": "tafL4FmyEdXK"
      },
      "source": [
        "Selecionando as tuplas em que a classe é igual à 1:"
      ]
    },
    {
      "cell_type": "code",
      "execution_count": 34,
      "metadata": {
        "colab": {
          "base_uri": "https://localhost:8080/",
          "height": 402
        },
        "id": "_wcJhbfyEdEf",
        "outputId": "765bab27-2c37-4325-f115-b33d9fe86229"
      },
      "outputs": [
        {
          "data": {
            "text/html": [
              "<div>\n",
              "<style scoped>\n",
              "    .dataframe tbody tr th:only-of-type {\n",
              "        vertical-align: middle;\n",
              "    }\n",
              "\n",
              "    .dataframe tbody tr th {\n",
              "        vertical-align: top;\n",
              "    }\n",
              "\n",
              "    .dataframe thead th {\n",
              "        text-align: right;\n",
              "    }\n",
              "</style>\n",
              "<table border=\"1\" class=\"dataframe\">\n",
              "  <thead>\n",
              "    <tr style=\"text-align: right;\">\n",
              "      <th></th>\n",
              "      <th>idade</th>\n",
              "      <th>sexo</th>\n",
              "      <th>altura</th>\n",
              "      <th>classe</th>\n",
              "    </tr>\n",
              "  </thead>\n",
              "  <tbody>\n",
              "    <tr>\n",
              "      <th>0</th>\n",
              "      <td>15.0</td>\n",
              "      <td>0</td>\n",
              "      <td>1.72</td>\n",
              "      <td>1</td>\n",
              "    </tr>\n",
              "    <tr>\n",
              "      <th>1</th>\n",
              "      <td>20.0</td>\n",
              "      <td>1</td>\n",
              "      <td>1.61</td>\n",
              "      <td>1</td>\n",
              "    </tr>\n",
              "    <tr>\n",
              "      <th>2</th>\n",
              "      <td>33.0</td>\n",
              "      <td>1</td>\n",
              "      <td>1.51</td>\n",
              "      <td>1</td>\n",
              "    </tr>\n",
              "    <tr>\n",
              "      <th>3</th>\n",
              "      <td>36.0</td>\n",
              "      <td>0</td>\n",
              "      <td>1.42</td>\n",
              "      <td>1</td>\n",
              "    </tr>\n",
              "    <tr>\n",
              "      <th>4</th>\n",
              "      <td>19.0</td>\n",
              "      <td>1</td>\n",
              "      <td>1.58</td>\n",
              "      <td>1</td>\n",
              "    </tr>\n",
              "    <tr>\n",
              "      <th>...</th>\n",
              "      <td>...</td>\n",
              "      <td>...</td>\n",
              "      <td>...</td>\n",
              "      <td>...</td>\n",
              "    </tr>\n",
              "    <tr>\n",
              "      <th>995</th>\n",
              "      <td>24.0</td>\n",
              "      <td>0</td>\n",
              "      <td>1.36</td>\n",
              "      <td>1</td>\n",
              "    </tr>\n",
              "    <tr>\n",
              "      <th>996</th>\n",
              "      <td>34.0</td>\n",
              "      <td>0</td>\n",
              "      <td>1.50</td>\n",
              "      <td>1</td>\n",
              "    </tr>\n",
              "    <tr>\n",
              "      <th>997</th>\n",
              "      <td>25.0</td>\n",
              "      <td>1</td>\n",
              "      <td>1.72</td>\n",
              "      <td>1</td>\n",
              "    </tr>\n",
              "    <tr>\n",
              "      <th>998</th>\n",
              "      <td>24.0</td>\n",
              "      <td>0</td>\n",
              "      <td>1.44</td>\n",
              "      <td>1</td>\n",
              "    </tr>\n",
              "    <tr>\n",
              "      <th>999</th>\n",
              "      <td>40.0</td>\n",
              "      <td>1</td>\n",
              "      <td>1.69</td>\n",
              "      <td>1</td>\n",
              "    </tr>\n",
              "  </tbody>\n",
              "</table>\n",
              "<p>937 rows × 4 columns</p>\n",
              "</div>"
            ],
            "text/plain": [
              "     idade  sexo  altura  classe\n",
              "0     15.0     0    1.72       1\n",
              "1     20.0     1    1.61       1\n",
              "2     33.0     1    1.51       1\n",
              "3     36.0     0    1.42       1\n",
              "4     19.0     1    1.58       1\n",
              "..     ...   ...     ...     ...\n",
              "995   24.0     0    1.36       1\n",
              "996   34.0     0    1.50       1\n",
              "997   25.0     1    1.72       1\n",
              "998   24.0     0    1.44       1\n",
              "999   40.0     1    1.69       1\n",
              "\n",
              "[937 rows x 4 columns]"
            ]
          },
          "execution_count": 34,
          "metadata": {},
          "output_type": "execute_result"
        }
      ],
      "source": [
        "classe_1 = dados[dados.classe == 1]\n",
        "classe_1"
      ]
    },
    {
      "cell_type": "markdown",
      "metadata": {
        "id": "YKzWj2w8Eual"
      },
      "source": [
        "Obtendo uma amostra de tamanho **45**. Note que, nesse caso, é interessante que nossa amostra possua elementos distintos, por isso `replace=False`:"
      ]
    },
    {
      "cell_type": "code",
      "execution_count": 35,
      "metadata": {
        "colab": {
          "base_uri": "https://localhost:8080/",
          "height": 1000
        },
        "id": "mDtwLkJX-pTE",
        "outputId": "afd8ac21-4bd4-43e3-d12a-7e5d99885441"
      },
      "outputs": [
        {
          "data": {
            "text/html": [
              "<div>\n",
              "<style scoped>\n",
              "    .dataframe tbody tr th:only-of-type {\n",
              "        vertical-align: middle;\n",
              "    }\n",
              "\n",
              "    .dataframe tbody tr th {\n",
              "        vertical-align: top;\n",
              "    }\n",
              "\n",
              "    .dataframe thead th {\n",
              "        text-align: right;\n",
              "    }\n",
              "</style>\n",
              "<table border=\"1\" class=\"dataframe\">\n",
              "  <thead>\n",
              "    <tr style=\"text-align: right;\">\n",
              "      <th></th>\n",
              "      <th>idade</th>\n",
              "      <th>sexo</th>\n",
              "      <th>altura</th>\n",
              "      <th>classe</th>\n",
              "    </tr>\n",
              "  </thead>\n",
              "  <tbody>\n",
              "    <tr>\n",
              "      <th>69</th>\n",
              "      <td>24.0</td>\n",
              "      <td>1</td>\n",
              "      <td>1.56</td>\n",
              "      <td>1</td>\n",
              "    </tr>\n",
              "    <tr>\n",
              "      <th>400</th>\n",
              "      <td>38.0</td>\n",
              "      <td>1</td>\n",
              "      <td>1.67</td>\n",
              "      <td>1</td>\n",
              "    </tr>\n",
              "    <tr>\n",
              "      <th>440</th>\n",
              "      <td>45.0</td>\n",
              "      <td>1</td>\n",
              "      <td>1.46</td>\n",
              "      <td>1</td>\n",
              "    </tr>\n",
              "    <tr>\n",
              "      <th>430</th>\n",
              "      <td>37.0</td>\n",
              "      <td>1</td>\n",
              "      <td>1.73</td>\n",
              "      <td>1</td>\n",
              "    </tr>\n",
              "    <tr>\n",
              "      <th>910</th>\n",
              "      <td>28.0</td>\n",
              "      <td>0</td>\n",
              "      <td>1.70</td>\n",
              "      <td>1</td>\n",
              "    </tr>\n",
              "    <tr>\n",
              "      <th>149</th>\n",
              "      <td>41.0</td>\n",
              "      <td>0</td>\n",
              "      <td>1.90</td>\n",
              "      <td>1</td>\n",
              "    </tr>\n",
              "    <tr>\n",
              "      <th>90</th>\n",
              "      <td>16.0</td>\n",
              "      <td>0</td>\n",
              "      <td>1.70</td>\n",
              "      <td>1</td>\n",
              "    </tr>\n",
              "    <tr>\n",
              "      <th>739</th>\n",
              "      <td>48.0</td>\n",
              "      <td>1</td>\n",
              "      <td>1.78</td>\n",
              "      <td>1</td>\n",
              "    </tr>\n",
              "    <tr>\n",
              "      <th>929</th>\n",
              "      <td>25.0</td>\n",
              "      <td>1</td>\n",
              "      <td>1.59</td>\n",
              "      <td>1</td>\n",
              "    </tr>\n",
              "    <tr>\n",
              "      <th>803</th>\n",
              "      <td>21.0</td>\n",
              "      <td>1</td>\n",
              "      <td>1.62</td>\n",
              "      <td>1</td>\n",
              "    </tr>\n",
              "    <tr>\n",
              "      <th>362</th>\n",
              "      <td>21.0</td>\n",
              "      <td>1</td>\n",
              "      <td>1.51</td>\n",
              "      <td>1</td>\n",
              "    </tr>\n",
              "    <tr>\n",
              "      <th>759</th>\n",
              "      <td>37.0</td>\n",
              "      <td>1</td>\n",
              "      <td>1.52</td>\n",
              "      <td>1</td>\n",
              "    </tr>\n",
              "    <tr>\n",
              "      <th>596</th>\n",
              "      <td>26.0</td>\n",
              "      <td>0</td>\n",
              "      <td>1.55</td>\n",
              "      <td>1</td>\n",
              "    </tr>\n",
              "    <tr>\n",
              "      <th>784</th>\n",
              "      <td>42.0</td>\n",
              "      <td>0</td>\n",
              "      <td>1.53</td>\n",
              "      <td>1</td>\n",
              "    </tr>\n",
              "    <tr>\n",
              "      <th>110</th>\n",
              "      <td>22.0</td>\n",
              "      <td>1</td>\n",
              "      <td>1.57</td>\n",
              "      <td>1</td>\n",
              "    </tr>\n",
              "    <tr>\n",
              "      <th>883</th>\n",
              "      <td>17.0</td>\n",
              "      <td>0</td>\n",
              "      <td>1.74</td>\n",
              "      <td>1</td>\n",
              "    </tr>\n",
              "    <tr>\n",
              "      <th>169</th>\n",
              "      <td>27.0</td>\n",
              "      <td>1</td>\n",
              "      <td>1.55</td>\n",
              "      <td>1</td>\n",
              "    </tr>\n",
              "    <tr>\n",
              "      <th>775</th>\n",
              "      <td>22.0</td>\n",
              "      <td>0</td>\n",
              "      <td>1.88</td>\n",
              "      <td>1</td>\n",
              "    </tr>\n",
              "    <tr>\n",
              "      <th>315</th>\n",
              "      <td>26.0</td>\n",
              "      <td>0</td>\n",
              "      <td>1.45</td>\n",
              "      <td>1</td>\n",
              "    </tr>\n",
              "    <tr>\n",
              "      <th>482</th>\n",
              "      <td>-2.0</td>\n",
              "      <td>1</td>\n",
              "      <td>1.80</td>\n",
              "      <td>1</td>\n",
              "    </tr>\n",
              "    <tr>\n",
              "      <th>772</th>\n",
              "      <td>45.0</td>\n",
              "      <td>0</td>\n",
              "      <td>1.49</td>\n",
              "      <td>1</td>\n",
              "    </tr>\n",
              "    <tr>\n",
              "      <th>257</th>\n",
              "      <td>33.0</td>\n",
              "      <td>0</td>\n",
              "      <td>1.47</td>\n",
              "      <td>1</td>\n",
              "    </tr>\n",
              "    <tr>\n",
              "      <th>470</th>\n",
              "      <td>19.0</td>\n",
              "      <td>0</td>\n",
              "      <td>1.56</td>\n",
              "      <td>1</td>\n",
              "    </tr>\n",
              "    <tr>\n",
              "      <th>948</th>\n",
              "      <td>38.0</td>\n",
              "      <td>1</td>\n",
              "      <td>1.65</td>\n",
              "      <td>1</td>\n",
              "    </tr>\n",
              "    <tr>\n",
              "      <th>774</th>\n",
              "      <td>25.0</td>\n",
              "      <td>1</td>\n",
              "      <td>1.28</td>\n",
              "      <td>1</td>\n",
              "    </tr>\n",
              "    <tr>\n",
              "      <th>557</th>\n",
              "      <td>27.0</td>\n",
              "      <td>0</td>\n",
              "      <td>1.85</td>\n",
              "      <td>1</td>\n",
              "    </tr>\n",
              "    <tr>\n",
              "      <th>714</th>\n",
              "      <td>24.0</td>\n",
              "      <td>1</td>\n",
              "      <td>1.25</td>\n",
              "      <td>1</td>\n",
              "    </tr>\n",
              "    <tr>\n",
              "      <th>536</th>\n",
              "      <td>19.0</td>\n",
              "      <td>0</td>\n",
              "      <td>1.62</td>\n",
              "      <td>1</td>\n",
              "    </tr>\n",
              "    <tr>\n",
              "      <th>594</th>\n",
              "      <td>34.0</td>\n",
              "      <td>0</td>\n",
              "      <td>1.69</td>\n",
              "      <td>1</td>\n",
              "    </tr>\n",
              "    <tr>\n",
              "      <th>978</th>\n",
              "      <td>16.0</td>\n",
              "      <td>0</td>\n",
              "      <td>1.71</td>\n",
              "      <td>1</td>\n",
              "    </tr>\n",
              "    <tr>\n",
              "      <th>561</th>\n",
              "      <td>19.0</td>\n",
              "      <td>0</td>\n",
              "      <td>1.31</td>\n",
              "      <td>1</td>\n",
              "    </tr>\n",
              "    <tr>\n",
              "      <th>992</th>\n",
              "      <td>47.0</td>\n",
              "      <td>1</td>\n",
              "      <td>1.74</td>\n",
              "      <td>1</td>\n",
              "    </tr>\n",
              "    <tr>\n",
              "      <th>999</th>\n",
              "      <td>40.0</td>\n",
              "      <td>1</td>\n",
              "      <td>1.69</td>\n",
              "      <td>1</td>\n",
              "    </tr>\n",
              "    <tr>\n",
              "      <th>155</th>\n",
              "      <td>22.0</td>\n",
              "      <td>0</td>\n",
              "      <td>1.47</td>\n",
              "      <td>1</td>\n",
              "    </tr>\n",
              "    <tr>\n",
              "      <th>492</th>\n",
              "      <td>6.0</td>\n",
              "      <td>1</td>\n",
              "      <td>1.52</td>\n",
              "      <td>1</td>\n",
              "    </tr>\n",
              "    <tr>\n",
              "      <th>888</th>\n",
              "      <td>32.0</td>\n",
              "      <td>0</td>\n",
              "      <td>1.63</td>\n",
              "      <td>1</td>\n",
              "    </tr>\n",
              "    <tr>\n",
              "      <th>357</th>\n",
              "      <td>23.0</td>\n",
              "      <td>1</td>\n",
              "      <td>1.43</td>\n",
              "      <td>1</td>\n",
              "    </tr>\n",
              "    <tr>\n",
              "      <th>221</th>\n",
              "      <td>44.0</td>\n",
              "      <td>0</td>\n",
              "      <td>1.62</td>\n",
              "      <td>1</td>\n",
              "    </tr>\n",
              "    <tr>\n",
              "      <th>692</th>\n",
              "      <td>30.0</td>\n",
              "      <td>0</td>\n",
              "      <td>1.62</td>\n",
              "      <td>1</td>\n",
              "    </tr>\n",
              "    <tr>\n",
              "      <th>129</th>\n",
              "      <td>29.0</td>\n",
              "      <td>1</td>\n",
              "      <td>1.75</td>\n",
              "      <td>1</td>\n",
              "    </tr>\n",
              "    <tr>\n",
              "      <th>32</th>\n",
              "      <td>35.0</td>\n",
              "      <td>0</td>\n",
              "      <td>1.37</td>\n",
              "      <td>1</td>\n",
              "    </tr>\n",
              "    <tr>\n",
              "      <th>827</th>\n",
              "      <td>30.0</td>\n",
              "      <td>1</td>\n",
              "      <td>1.70</td>\n",
              "      <td>1</td>\n",
              "    </tr>\n",
              "    <tr>\n",
              "      <th>696</th>\n",
              "      <td>26.0</td>\n",
              "      <td>1</td>\n",
              "      <td>1.59</td>\n",
              "      <td>1</td>\n",
              "    </tr>\n",
              "    <tr>\n",
              "      <th>641</th>\n",
              "      <td>50.0</td>\n",
              "      <td>0</td>\n",
              "      <td>1.58</td>\n",
              "      <td>1</td>\n",
              "    </tr>\n",
              "    <tr>\n",
              "      <th>770</th>\n",
              "      <td>15.0</td>\n",
              "      <td>0</td>\n",
              "      <td>1.55</td>\n",
              "      <td>1</td>\n",
              "    </tr>\n",
              "  </tbody>\n",
              "</table>\n",
              "</div>"
            ],
            "text/plain": [
              "     idade  sexo  altura  classe\n",
              "69    24.0     1    1.56       1\n",
              "400   38.0     1    1.67       1\n",
              "440   45.0     1    1.46       1\n",
              "430   37.0     1    1.73       1\n",
              "910   28.0     0    1.70       1\n",
              "149   41.0     0    1.90       1\n",
              "90    16.0     0    1.70       1\n",
              "739   48.0     1    1.78       1\n",
              "929   25.0     1    1.59       1\n",
              "803   21.0     1    1.62       1\n",
              "362   21.0     1    1.51       1\n",
              "759   37.0     1    1.52       1\n",
              "596   26.0     0    1.55       1\n",
              "784   42.0     0    1.53       1\n",
              "110   22.0     1    1.57       1\n",
              "883   17.0     0    1.74       1\n",
              "169   27.0     1    1.55       1\n",
              "775   22.0     0    1.88       1\n",
              "315   26.0     0    1.45       1\n",
              "482   -2.0     1    1.80       1\n",
              "772   45.0     0    1.49       1\n",
              "257   33.0     0    1.47       1\n",
              "470   19.0     0    1.56       1\n",
              "948   38.0     1    1.65       1\n",
              "774   25.0     1    1.28       1\n",
              "557   27.0     0    1.85       1\n",
              "714   24.0     1    1.25       1\n",
              "536   19.0     0    1.62       1\n",
              "594   34.0     0    1.69       1\n",
              "978   16.0     0    1.71       1\n",
              "561   19.0     0    1.31       1\n",
              "992   47.0     1    1.74       1\n",
              "999   40.0     1    1.69       1\n",
              "155   22.0     0    1.47       1\n",
              "492    6.0     1    1.52       1\n",
              "888   32.0     0    1.63       1\n",
              "357   23.0     1    1.43       1\n",
              "221   44.0     0    1.62       1\n",
              "692   30.0     0    1.62       1\n",
              "129   29.0     1    1.75       1\n",
              "32    35.0     0    1.37       1\n",
              "827   30.0     1    1.70       1\n",
              "696   26.0     1    1.59       1\n",
              "641   50.0     0    1.58       1\n",
              "770   15.0     0    1.55       1"
            ]
          },
          "execution_count": 35,
          "metadata": {},
          "output_type": "execute_result"
        }
      ],
      "source": [
        "sample_1 = classe_1.sample(n=45, replace=False)\n",
        "sample_1"
      ]
    },
    {
      "cell_type": "code",
      "execution_count": 36,
      "metadata": {
        "colab": {
          "base_uri": "https://localhost:8080/"
        },
        "id": "GExMtbd8FI6O",
        "outputId": "9dca4f89-8272-4c4a-d3e4-7a08b8caf98f"
      },
      "outputs": [
        {
          "data": {
            "text/plain": [
              "(45, 4)"
            ]
          },
          "execution_count": 36,
          "metadata": {},
          "output_type": "execute_result"
        }
      ],
      "source": [
        "sample_1.shape"
      ]
    },
    {
      "cell_type": "markdown",
      "metadata": {
        "id": "W2bvhm-KFM-H"
      },
      "source": [
        "Agora iremos concatenar a amostra com dados com os dados do conjunto original que possuiam classe igual a `0`:"
      ]
    },
    {
      "cell_type": "code",
      "execution_count": 37,
      "metadata": {
        "id": "5f1iLF41Fcit"
      },
      "outputs": [],
      "source": [
        "classe_0 = dados[dados.classe == 0]\n",
        "dados_downsampled = pd.concat([classe_0, sample_1])"
      ]
    },
    {
      "cell_type": "markdown",
      "metadata": {
        "id": "hlLBhMVZFl9E"
      },
      "source": [
        "Verificando a distribuição das classes:"
      ]
    },
    {
      "cell_type": "code",
      "execution_count": 38,
      "metadata": {
        "colab": {
          "base_uri": "https://localhost:8080/",
          "height": 314
        },
        "id": "k689AH21Fn1o",
        "outputId": "49632be9-c0bd-434a-e6a1-cba0c53fed45"
      },
      "outputs": [
        {
          "data": {
            "text/plain": [
              "array([[<AxesSubplot:title={'center':'classe'}>]], dtype=object)"
            ]
          },
          "execution_count": 38,
          "metadata": {},
          "output_type": "execute_result"
        },
        {
          "data": {
            "image/png": "[encoded data removed]",
            "text/plain": [
              "<Figure size 1080x720 with 1 Axes>"
            ]
          },
          "metadata": {
            "needs_background": "light"
          },
          "output_type": "display_data"
        }
      ],
      "source": [
        "dados_downsampled.hist('classe')"
      ]
    },
    {
      "cell_type": "code",
      "execution_count": 39,
      "metadata": {
        "colab": {
          "base_uri": "https://localhost:8080/"
        },
        "id": "dhk0zP-YFqGd",
        "outputId": "5b726c8a-042b-45ce-e683-b824d118fdd5"
      },
      "outputs": [
        {
          "data": {
            "text/plain": [
              "0    63\n",
              "1    45\n",
              "Name: classe, dtype: int64"
            ]
          },
          "execution_count": 39,
          "metadata": {},
          "output_type": "execute_result"
        }
      ],
      "source": [
        "dados_downsampled['classe'].value_counts()"
      ]
    },
    {
      "cell_type": "code",
      "execution_count": 40,
      "metadata": {
        "colab": {
          "base_uri": "https://localhost:8080/",
          "height": 365
        },
        "id": "AN-ysD3SHAeL",
        "outputId": "cce66e59-869e-4e11-ae78-dc83524f3212"
      },
      "outputs": [
        {
          "data": {
            "text/plain": [
              "array([[<AxesSubplot:title={'center':'idade'}>,\n",
              "        <AxesSubplot:title={'center':'sexo'}>],\n",
              "       [<AxesSubplot:title={'center':'altura'}>,\n",
              "        <AxesSubplot:title={'center':'classe'}>]], dtype=object)"
            ]
          },
          "execution_count": 40,
          "metadata": {},
          "output_type": "execute_result"
        },
        {
          "data": {
            "image/png": "[encoded data removed]",
            "text/plain": [
              "<Figure size 1080x720 with 4 Axes>"
            ]
          },
          "metadata": {
            "needs_background": "light"
          },
          "output_type": "display_data"
        }
      ],
      "source": [
        "dados_downsampled.hist()"
      ]
    },
    {
      "cell_type": "markdown",
      "metadata": {
        "id": "RChJQegru2vc"
      },
      "source": [
        "### Fazendo sampling dos exemplos e da classe quando estão em objetos diferentes"
      ]
    },
    {
      "cell_type": "code",
      "execution_count": 48,
      "metadata": {},
      "outputs": [
        {
          "data": {
            "text/plain": [
              "(array([ 22,  42,  78, 109, 154, 217, 225, 231, 234, 251, 252, 273, 278,\n",
              "        288, 291, 325, 333, 334, 341, 350, 358, 374, 387, 393, 398, 406,\n",
              "        409, 444, 479, 480, 481, 487, 494, 530, 531, 544, 551, 560, 591,\n",
              "        618, 624, 683, 698, 708, 713, 753, 768, 771, 789, 799, 812, 838,\n",
              "        843, 856, 867, 873, 886, 894, 919, 920, 924, 935, 988], dtype=int64),)"
            ]
          },
          "execution_count": 48,
          "metadata": {},
          "output_type": "execute_result"
        }
      ],
      "source": []
    },
    {
      "cell_type": "code",
      "execution_count": 44,
      "metadata": {
        "id": "j-836oBTGdpH"
      },
      "outputs": [],
      "source": [
        "indices_0 = np.where(dados.classe == 0)[0]\n",
        "atributos = dados[['altura','sexo', 'idade']].to_numpy()\n",
        "classes = dados['classe'].to_numpy()\n",
        "\n",
        "indices_0_sample = np.random.choice(indices_0, size=10, replace=False)"
      ]
    },
    {
      "cell_type": "code",
      "execution_count": 49,
      "metadata": {},
      "outputs": [
        {
          "data": {
            "text/plain": [
              "array([768, 387, 799, 838, 919, 251, 341, 494, 544, 843], dtype=int64)"
            ]
          },
          "execution_count": 49,
          "metadata": {},
          "output_type": "execute_result"
        }
      ],
      "source": [
        "indices_0_sample"
      ]
    },
    {
      "cell_type": "markdown",
      "metadata": {
        "id": "R7HT7Vaaj69w"
      },
      "source": [
        "\n",
        "\n",
        "---\n",
        "\n",
        "## Métricas de desempenho em conjuntos desbalanceados"
      ]
    },
    {
      "cell_type": "markdown",
      "metadata": {
        "id": "jnkFdOcWkBHa"
      },
      "source": [
        "Alguns cuidados são necessários ao medir desempenho em dados não balanceados. Por exemplo, suponha um classificador binário (`Some_classifier`) que sempre classifica uma entrada como a classe predominante do conjunto. Vamos calcular sua acurácia no conjunto de dados inicial:"
      ]
    },
    {
      "cell_type": "code",
      "execution_count": 45,
      "metadata": {
        "id": "68V_vzrzkL_i"
      },
      "outputs": [],
      "source": [
        "import numpy as np\n",
        "\n",
        "# Criando uma classe de classificador de exemplo\n",
        "class Some_classifier:\n",
        "  def __init__(self):\n",
        "    self.predict_value = None\n",
        "  def fit(self, X, y):\n",
        "    self.predict_value = y.mode()\n",
        "  def predict(self, X):\n",
        "    return np.repeat(1, X.shape[0])"
      ]
    },
    {
      "cell_type": "markdown",
      "metadata": {
        "id": "eZWkYzSrj-Ct"
      },
      "source": [
        "Separando em variáveis de entrada (`X`) e variáveis alvo (`y`) e calculando acurácia padrão:"
      ]
    },
    {
      "cell_type": "code",
      "execution_count": 46,
      "metadata": {
        "colab": {
          "base_uri": "https://localhost:8080/"
        },
        "id": "A14nDQs7lYmf",
        "outputId": "474a5ded-0ef8-4681-d707-6b1fb698f839"
      },
      "outputs": [
        {
          "name": "stdout",
          "output_type": "stream",
          "text": [
            "Acurácia do classificador: 93.70%\n"
          ]
        }
      ],
      "source": [
        "from sklearn.metrics import accuracy_score\n",
        "\n",
        "# Separando o conjunto de dados\n",
        "X, y = dados.iloc[:, :-1], dados.iloc[:, -1]\n",
        "\n",
        "my_classifier = Some_classifier()\n",
        "my_classifier.fit(X, y)\n",
        "y_pred = my_classifier.predict(X)\n",
        "\n",
        "print(\"Acurácia do classificador: %.2f%%\" % (accuracy_score(y, y_pred)*100))"
      ]
    },
    {
      "cell_type": "markdown",
      "metadata": {
        "id": "cKSOqK2gkd0q"
      },
      "source": [
        "A medida de acurácia não representa muito bem o desempenho do nosso classificador."
      ]
    },
    {
      "cell_type": "markdown",
      "metadata": {
        "id": "UM6F09nbqlqC"
      },
      "source": [
        "Material que discute bem diferentes métricas para dados desbalanceados: https://machinelearningmastery.com/tour-of-evaluation-metrics-for-imbalanced-classification/"
      ]
    },
    {
      "cell_type": "markdown",
      "metadata": {
        "id": "Hd6D_7ScvW50"
      },
      "source": [
        "### Importante: Técnicas de amostragem devem ser feitas no conjunto de treinamento!"
      ]
    }
  ],
  "metadata": {
    "colab": {
      "name": "Undersampling e Oversampling.ipynb",
      "provenance": []
    },
    "interpreter": {
      "hash": "cf16bccad1c80041e3bb03c1f2bd15e9ca230e2e95882b7ec66259c791c3c770"
    },
    "kernelspec": {
      "display_name": "Python 3.7.9 64-bit",
      "name": "python3"
    },
    "language_info": {
      "codemirror_mode": {
        "name": "ipython",
        "version": 3
      },
      "file_extension": ".py",
      "mimetype": "text/x-python",
      "name": "python",
      "nbconvert_exporter": "python",
      "pygments_lexer": "ipython3",
      "version": "3.7.9"
    }
  },
  "nbformat": 4,
  "nbformat_minor": 0
}
