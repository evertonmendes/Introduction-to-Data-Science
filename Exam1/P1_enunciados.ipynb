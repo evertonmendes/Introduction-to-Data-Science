{
 "cells": [
  {
   "cell_type": "markdown",
   "metadata": {},
   "source": [
    "# SC,,  C0275: Introdução a Ciência de Dados - 2o Semestre de 2021\n",
    "\n",
    "# P1\n",
    "\n",
    "### Profa. Roseli A. F. Romero\n",
    "\n",
    "### Monitor: Kenzo Sakiyama\n",
    "\n",
    "Alunos:\n",
    "\n",
    "\n",
    "1.  Éverton Luís Mendes da Silva(10728171)"
   ]
  },
  {
   "cell_type": "markdown",
   "metadata": {},
   "source": [
    "# Parte 1\n",
    "\n",
    "Suponha que duas cidades diferentes tenham te fornecido as temperaturas máximas (celsius) durante diferente dias do ano.\n",
    "Os dados foram disponibilizados no arquivo \"cidades.csv\".\n",
    "\n",
    "As leituras estão em ordem cronológica, porém, o sensor da cidade 1 falhou em alguns dias."
   ]
  },
  {
   "cell_type": "markdown",
   "metadata": {},
   "source": [
    "# Questão 1\n",
    "\n",
    "- a) Para a cidade 1, substitua os valores ausentes pela média das leituras do dia anterior e do dia seguinte.  (1 pt)\n",
    "- b) Calcule a média e a variância de temperatura no ano para cada cidade. (1 pt)\n"
   ]
  },
  {
   "cell_type": "code",
   "execution_count": 1,
   "metadata": {},
   "outputs": [],
   "source": [
    "import pandas as pd\n",
    "import numpy as np"
   ]
  },
  {
   "cell_type": "code",
   "execution_count": 2,
   "metadata": {},
   "outputs": [],
   "source": [
    "cidades_df = pd.read_csv(\"cidades.csv\", index_col=0)"
   ]
  },
  {
   "cell_type": "code",
   "execution_count": 7,
   "metadata": {},
   "outputs": [],
   "source": [
    "import copy"
   ]
  },
  {
   "cell_type": "code",
   "execution_count": 30,
   "metadata": {},
   "outputs": [],
   "source": [
    "def ReplaceNan(df, attribute):\n",
    "\n",
    "    df=copy.deepcopy(df)\n",
    "    df[attribute]=[(df[attribute][index-1]+df[attribute][index+1])/2 if Nan_value==True else df[attribute][index] for index, Nan_value in enumerate(df[attribute].isna())]\n",
    "\n",
    "    return df\n",
    "    "
   ]
  },
  {
   "cell_type": "code",
   "execution_count": 18,
   "metadata": {},
   "outputs": [],
   "source": [
    "new_cidades_df=ReplaceNan(cidades_df, 'Temperatura_C1')"
   ]
  },
  {
   "cell_type": "code",
   "execution_count": 22,
   "metadata": {},
   "outputs": [
    {
     "data": {
      "text/plain": [
       "0.0"
      ]
     },
     "execution_count": 22,
     "metadata": {},
     "output_type": "execute_result"
    }
   ],
   "source": [
    "new_cidades_df['Temperatura_C1'].isna().mean()"
   ]
  },
  {
   "cell_type": "code",
   "execution_count": 25,
   "metadata": {},
   "outputs": [
    {
     "name": "stdout",
     "output_type": "stream",
     "text": [
      "Temperatura_C1 mean: 24.012638726623994 std: 7.628782299058482 \n",
      "Temperatura_C2 mean: 27.82079587783114 std: 6.913257918375206 \n"
     ]
    }
   ],
   "source": [
    "for column in new_cidades_df.columns:\n",
    "\n",
    "    print('{} mean: {} std: {} '.format(column, new_cidades_df[column].mean(), new_cidades_df[column].std()))"
   ]
  },
  {
   "cell_type": "markdown",
   "metadata": {},
   "source": [
    "# Questão 2.\n",
    "\n",
    "- a) Analisando os valores de temperatura para a cidade 2, pode-se se dizer que os dados são multimodais (mais de uma moda)? Justifique. (1 pt)\n",
    "    - Sugestão: Visualize os dados através de um histograma.\n",
    "- b) Determine a quantidade de dias quentes para cada cidade. Consideramos um dia como quente caso sua temperatura máxima tenha sido maior ou igual 25 graus celsius. (1 pt)\n"
   ]
  },
  {
   "cell_type": "code",
   "execution_count": 26,
   "metadata": {},
   "outputs": [],
   "source": [
    "import seaborn as sn"
   ]
  },
  {
   "cell_type": "code",
   "execution_count": 28,
   "metadata": {},
   "outputs": [
    {
     "data": {
      "text/plain": [
       "<AxesSubplot:>"
      ]
     },
     "execution_count": 28,
     "metadata": {},
     "output_type": "execute_result"
    },
    {
     "data": {
      "image/png": "[encoded data removed]",
      "text/plain": [
       "<Figure size 432x288 with 1 Axes>"
      ]
     },
     "metadata": {
      "needs_background": "light"
     },
     "output_type": "display_data"
    }
   ],
   "source": [
    "new_cidades_df['Temperatura_C2'].hist()"
   ]
  },
  {
   "cell_type": "markdown",
   "metadata": {},
   "source": [
    "Analisando o histograma de cada coluna do nosso dataframe, podemos afirmar que o nosso conjunto de dados possui dois picos separados. Ou seja, os dados possuem mais de um lugar para aglomeração"
   ]
  },
  {
   "cell_type": "code",
   "execution_count": 34,
   "metadata": {},
   "outputs": [],
   "source": [
    "def FindHotDay(df, attribute):\n",
    "\n",
    "    df=copy.deepcopy(df)\n",
    "    days_hot=len([1 for  temperature in df[attribute] if temperature<25 ])\n",
    "\n",
    "    return days_hot    "
   ]
  },
  {
   "cell_type": "code",
   "execution_count": 35,
   "metadata": {},
   "outputs": [
    {
     "name": "stdout",
     "output_type": "stream",
     "text": [
      "Temperatura_C1 the number of hot days are 173\n",
      "Temperatura_C2 the number of hot days are 228\n"
     ]
    }
   ],
   "source": [
    "for city in new_cidades_df.columns:\n",
    "\n",
    "    print('{} the number of hot days are {}'.format(city, FindHotDay(new_cidades_df, city)))"
   ]
  },
  {
   "cell_type": "markdown",
   "metadata": {},
   "source": [
    "# Questão 3\n",
    "\n",
    "- a) Faça um boxplot para os valores de temperatura de cada cidade. Em seguida, identifique qual das cidades possui a maior quantidade de outliers nos seus valores de temperatura. Justifique. (1 pt)\n",
    "- b) Com base no boxplot gerado para a cidade 1, qual é o valor aproximado do quartil Q2? (0.5 pt)\n",
    "- c) Com base no boxplot gerado para a cidade 2, qual é o valor do quartil Q3? (0.5 pt)"
   ]
  },
  {
   "cell_type": "code",
   "execution_count": 43,
   "metadata": {},
   "outputs": [
    {
     "data": {
      "text/plain": [
       "<AxesSubplot:>"
      ]
     },
     "execution_count": 43,
     "metadata": {},
     "output_type": "execute_result"
    },
    {
     "data": {
      "image/png": "[encoded data removed]",
      "text/plain": [
       "<Figure size 432x288 with 1 Axes>"
      ]
     },
     "metadata": {
      "needs_background": "light"
     },
     "output_type": "display_data"
    }
   ],
   "source": [
    "new_cidades_df.boxplot()"
   ]
  },
  {
   "cell_type": "markdown",
   "metadata": {},
   "source": [
    "Pelos dados, chegamos a conclusão de que a cidade dois não possui outliers. Contudo, a cidade 1 está repleta deles"
   ]
  },
  {
   "cell_type": "code",
   "execution_count": 46,
   "metadata": {},
   "outputs": [
    {
     "name": "stdout",
     "output_type": "stream",
     "text": [
      "Q2 of city 1 is 25.228543556446454\n"
     ]
    }
   ],
   "source": [
    "print('Q2 of city 1 is {}'.format(new_cidades_df['Temperatura_C1'].quantile(0.5)))"
   ]
  },
  {
   "cell_type": "code",
   "execution_count": 47,
   "metadata": {},
   "outputs": [
    {
     "name": "stdout",
     "output_type": "stream",
     "text": [
      "Q3 of city 2 is 35.988879441761405\n"
     ]
    }
   ],
   "source": [
    "print('Q3 of city 2 is {}'.format(new_cidades_df['Temperatura_C2'].quantile(0.75)))"
   ]
  },
  {
   "cell_type": "markdown",
   "metadata": {},
   "source": [
    "# Parte 2\n",
    "\n",
    "O dataset \"Breast Cancer Wisconsin\" é um dataset que contém 699 instâncias, cada uma com 10 atributos númericos e 1 atributo correspondente a classe. A idéia do dataset é conseguir classificar um tumor como benigno ou maligno a partir de 10 variáveis descritivas. Foi adicionado um cabeçalho no arquivo original para facilitar seu manuseio."
   ]
  },
  {
   "cell_type": "code",
   "execution_count": 48,
   "metadata": {},
   "outputs": [],
   "source": [
    "# Removendo valores ausentes por simplicidade\n",
    "data_df = pd.read_csv(\"breast-cancer-wisconsin.data\", na_values='?').dropna()"
   ]
  },
  {
   "cell_type": "code",
   "execution_count": 50,
   "metadata": {},
   "outputs": [
    {
     "data": {
      "text/plain": [
       "id                 0.0\n",
       "clump_thickness    0.0\n",
       "u_cell_size        0.0\n",
       "u_cell_shape       0.0\n",
       "marg_adhesion      0.0\n",
       "epi_cell_size      0.0\n",
       "bare_nuclei        0.0\n",
       "bland_chrom        0.0\n",
       "norm_nucl          0.0\n",
       "mitoses            0.0\n",
       "class              0.0\n",
       "dtype: float64"
      ]
     },
     "execution_count": 50,
     "metadata": {},
     "output_type": "execute_result"
    }
   ],
   "source": [
    "data_df.isna().mean()"
   ]
  },
  {
   "cell_type": "markdown",
   "metadata": {},
   "source": [
    "# Questão 4 \n",
    "- a) Reduza o número de atributos escolhendo os 3 mais relevantes. Justifique sua resposta. (1 pt)\n",
    "- b) Comente a distribuição dos valores de **um** dos atributos selecionados. Sugestão: escolha uma forma de visualização (ex: histograma ou boxplot) e comente momentos calculados a partir dos valores. (1 pt)"
   ]
  },
  {
   "cell_type": "code",
   "execution_count": 66,
   "metadata": {},
   "outputs": [
    {
     "data": {
      "text/plain": [
       "<AxesSubplot:>"
      ]
     },
     "execution_count": 66,
     "metadata": {},
     "output_type": "execute_result"
    },
    {
     "data": {
      "image/png": "[encoded data removed]",
      "text/plain": [
       "<Figure size 432x288 with 2 Axes>"
      ]
     },
     "metadata": {
      "needs_background": "light"
     },
     "output_type": "display_data"
    }
   ],
   "source": [
    "sn.heatmap(data_df.drop(columns='class').corr(), annot=True, cmap='viridis')"
   ]
  },
  {
   "cell_type": "code",
   "execution_count": 53,
   "metadata": {},
   "outputs": [],
   "source": [
    "def max_min_corr(df):\n",
    "    '''the function calculates the max and min value of a correlation matrix, obtained from a DataFrame\n",
    "    Args:\n",
    "        df, DataFrame\n",
    "    Return:\n",
    "        first_max,\n",
    "        second_max.\n",
    "        first_min, \n",
    "        second_min, \n",
    "    '''\n",
    "\n",
    "    corr_iris=df.corr(method='pearson').abs()\n",
    "    upper = corr_iris.where(np.triu(np.ones(corr_iris.shape), k=1).astype(np.bool))\n",
    "    \n",
    "    first_max=upper.max().dropna().idxmax()\n",
    "    second_max=upper.idxmax()[str(first_max)]\n",
    "\n",
    "    first_min=upper.min().dropna().idxmin()\n",
    "    second_min=upper.idxmin()[str(first_min)]\n",
    "\n",
    "    print('The variables with more correlation are {} and {}'.format(first_max, second_max))\n",
    "    print('The variables with less correlation are {} and {}'.format(first_min, second_min))\n",
    "\n",
    "    return first_max, second_max, first_min, second_min"
   ]
  },
  {
   "cell_type": "markdown",
   "metadata": {},
   "source": [
    "Para escolher os três atributos mais relevantes, irei excluir os atributos com maior correlação (atributos que quase contém a mesma informação)"
   ]
  },
  {
   "cell_type": "code",
   "execution_count": 93,
   "metadata": {},
   "outputs": [],
   "source": [
    "reduce_data_df=copy.deepcopy(data_df.drop(columns=['class', 'id']))"
   ]
  },
  {
   "cell_type": "code",
   "execution_count": 94,
   "metadata": {},
   "outputs": [
    {
     "name": "stdout",
     "output_type": "stream",
     "text": [
      "The variables with more correlation are u_cell_shape and u_cell_size\n",
      "The variables with less correlation are mitoses and bare_nuclei\n",
      "The variables with more correlation are bland_chrom and u_cell_shape\n",
      "The variables with less correlation are mitoses and bare_nuclei\n",
      "The variables with more correlation are bland_chrom and bare_nuclei\n",
      "The variables with less correlation are mitoses and bare_nuclei\n",
      "The variables with more correlation are bland_chrom and marg_adhesion\n",
      "The variables with less correlation are mitoses and bland_chrom\n",
      "The variables with more correlation are norm_nucl and bland_chrom\n",
      "The variables with less correlation are mitoses and bland_chrom\n",
      "The variables with more correlation are norm_nucl and epi_cell_size\n",
      "The variables with less correlation are mitoses and clump_thickness\n"
     ]
    }
   ],
   "source": [
    "while reduce_data_df.columns.shape[0] >3:\n",
    "\n",
    "    max_1, max_2, min_1, min_2=max_min_corr(reduce_data_df)\n",
    "    reduce_data_df=reduce_data_df.drop(columns=max_2)"
   ]
  },
  {
   "cell_type": "code",
   "execution_count": 96,
   "metadata": {},
   "outputs": [
    {
     "data": {
      "text/html": [
       "<div>\n",
       "<style scoped>\n",
       "    .dataframe tbody tr th:only-of-type {\n",
       "        vertical-align: middle;\n",
       "    }\n",
       "\n",
       "    .dataframe tbody tr th {\n",
       "        vertical-align: top;\n",
       "    }\n",
       "\n",
       "    .dataframe thead th {\n",
       "        text-align: right;\n",
       "    }\n",
       "</style>\n",
       "<table border=\"1\" class=\"dataframe\">\n",
       "  <thead>\n",
       "    <tr style=\"text-align: right;\">\n",
       "      <th></th>\n",
       "      <th>clump_thickness</th>\n",
       "      <th>norm_nucl</th>\n",
       "      <th>mitoses</th>\n",
       "    </tr>\n",
       "  </thead>\n",
       "  <tbody>\n",
       "    <tr>\n",
       "      <th>0</th>\n",
       "      <td>5</td>\n",
       "      <td>1</td>\n",
       "      <td>1</td>\n",
       "    </tr>\n",
       "    <tr>\n",
       "      <th>1</th>\n",
       "      <td>5</td>\n",
       "      <td>2</td>\n",
       "      <td>1</td>\n",
       "    </tr>\n",
       "    <tr>\n",
       "      <th>2</th>\n",
       "      <td>3</td>\n",
       "      <td>1</td>\n",
       "      <td>1</td>\n",
       "    </tr>\n",
       "    <tr>\n",
       "      <th>3</th>\n",
       "      <td>6</td>\n",
       "      <td>7</td>\n",
       "      <td>1</td>\n",
       "    </tr>\n",
       "    <tr>\n",
       "      <th>4</th>\n",
       "      <td>4</td>\n",
       "      <td>1</td>\n",
       "      <td>1</td>\n",
       "    </tr>\n",
       "  </tbody>\n",
       "</table>\n",
       "</div>"
      ],
      "text/plain": [
       "   clump_thickness  norm_nucl  mitoses\n",
       "0                5          1        1\n",
       "1                5          2        1\n",
       "2                3          1        1\n",
       "3                6          7        1\n",
       "4                4          1        1"
      ]
     },
     "execution_count": 96,
     "metadata": {},
     "output_type": "execute_result"
    }
   ],
   "source": [
    "reduce_data_df.head()"
   ]
  },
  {
   "cell_type": "code",
   "execution_count": 102,
   "metadata": {},
   "outputs": [
    {
     "data": {
      "text/plain": [
       "<AxesSubplot:>"
      ]
     },
     "execution_count": 102,
     "metadata": {},
     "output_type": "execute_result"
    },
    {
     "data": {
      "image/png": "[encoded data removed]",
      "text/plain": [
       "<Figure size 432x288 with 1 Axes>"
      ]
     },
     "metadata": {
      "needs_background": "light"
     },
     "output_type": "display_data"
    }
   ],
   "source": [
    "reduce_data_df['mitoses'].hist()"
   ]
  },
  {
   "cell_type": "markdown",
   "metadata": {},
   "source": [
    "Pelo histograma, podemos ver que o atributo 'mitoses' possui obliquidade e curtose positiva."
   ]
  },
  {
   "cell_type": "code",
   "execution_count": 104,
   "metadata": {},
   "outputs": [
    {
     "name": "stdout",
     "output_type": "stream",
     "text": [
      "mitoses kurtosis: 12.2733736 skew: 3.5114762\n"
     ]
    }
   ],
   "source": [
    "print('mitoses kurtosis: {:.7f} skew: {:.7f}'.format(reduce_data_df['mitoses'].kurtosis(), reduce_data_df['mitoses'].skew()))"
   ]
  },
  {
   "cell_type": "markdown",
   "metadata": {},
   "source": [
    "Devido a isso, podemos esperar que esse atributo também possua um grande número de outliers"
   ]
  },
  {
   "cell_type": "code",
   "execution_count": 105,
   "metadata": {},
   "outputs": [
    {
     "name": "stderr",
     "output_type": "stream",
     "text": [
      "C:\\Users\\wever\\AppData\\Local\\Programs\\Python\\Python37\\lib\\site-packages\\seaborn\\_decorators.py:43: FutureWarning: Pass the following variable as a keyword arg: x. From version 0.12, the only valid positional argument will be `data`, and passing other arguments without an explicit keyword will result in an error or misinterpretation.\n",
      "  FutureWarning\n"
     ]
    },
    {
     "data": {
      "text/plain": [
       "<AxesSubplot:xlabel='mitoses'>"
      ]
     },
     "execution_count": 105,
     "metadata": {},
     "output_type": "execute_result"
    },
    {
     "data": {
      "image/png": "[encoded data removed]",
      "text/plain": [
       "<Figure size 432x288 with 1 Axes>"
      ]
     },
     "metadata": {
      "needs_background": "light"
     },
     "output_type": "display_data"
    }
   ],
   "source": [
    "sn.boxplot(reduce_data_df['mitoses'])"
   ]
  },
  {
   "cell_type": "markdown",
   "metadata": {},
   "source": [
    "e"
   ]
  },
  {
   "cell_type": "markdown",
   "metadata": {},
   "source": [
    "# Questão 5\n",
    "- a) Considerando os 10 atributos originais (sem o atributo classe), reduza a dimensionalidade dos dados usando a técnica PCA, mantendo uma variância acima de 90%. (1 pt)\n",
    "- b) Quantos componentes são necessários para manter a variância de 90%? (1 pt)"
   ]
  },
  {
   "cell_type": "code",
   "execution_count": 59,
   "metadata": {},
   "outputs": [],
   "source": [
    "from sklearn.decomposition import PCA\n",
    "from sklearn.preprocessing import StandardScaler\n",
    "from sklearn.pipeline import make_pipeline\n",
    "import matplotlib.pyplot as plt"
   ]
  },
  {
   "cell_type": "code",
   "execution_count": 65,
   "metadata": {},
   "outputs": [],
   "source": [
    "scaler=StandardScaler()\n",
    "pca=PCA()\n",
    "pipeline=make_pipeline(scaler, pca)\n",
    "new_data_df=pd.DataFrame(pipeline.fit_transform(data_df.drop(columns=['class']).values))"
   ]
  },
  {
   "cell_type": "code",
   "execution_count": 60,
   "metadata": {},
   "outputs": [
    {
     "data": {
      "text/plain": [
       "Text(0.5, 0, 'PCA components')"
      ]
     },
     "execution_count": 60,
     "metadata": {},
     "output_type": "execute_result"
    },
    {
     "data": {
      "image/png": "[encoded data removed]",
      "text/plain": [
       "<Figure size 432x288 with 1 Axes>"
      ]
     },
     "metadata": {
      "needs_background": "light"
     },
     "output_type": "display_data"
    }
   ],
   "source": [
    "plt.title('PCA Variance')\n",
    "plt.bar(range(pca.n_components_), pca.explained_variance_ratio_)\n",
    "plt.xticks(range(pca.n_components_))\n",
    "plt.ylabel('Variance')\n",
    "plt.xlabel('PCA components')"
   ]
  },
  {
   "cell_type": "code",
   "execution_count": null,
   "metadata": {},
   "outputs": [
    {
     "name": "stdout",
     "output_type": "stream",
     "text": [
      "6 components are needed for a variance above 90% : 0.905623010\n"
     ]
    }
   ],
   "source": [
    "print('6 components were needed for a variance above 90% : {:.9f}'.format(np.sum(pca.explained_variance_ratio_[:6])))"
   ]
  },
  {
   "cell_type": "code",
   "execution_count": null,
   "metadata": {},
   "outputs": [],
   "source": []
  }
 ],
 "metadata": {
  "interpreter": {
   "hash": "cf16bccad1c80041e3bb03c1f2bd15e9ca230e2e95882b7ec66259c791c3c770"
  },
  "kernelspec": {
   "display_name": "Python 3.7.9 64-bit",
   "name": "python3"
  },
  "language_info": {
   "codemirror_mode": {
    "name": "ipython",
    "version": 3
   },
   "file_extension": ".py",
   "mimetype": "text/x-python",
   "name": "python",
   "nbconvert_exporter": "python",
   "pygments_lexer": "ipython3",
   "version": "3.7.9"
  },
  "orig_nbformat": 4
 },
 "nbformat": 4,
 "nbformat_minor": 2
}
